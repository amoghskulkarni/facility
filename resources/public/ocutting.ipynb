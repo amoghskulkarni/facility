{
 "cells": [
  {
   "cell_type": "markdown",
   "metadata": {},
   "source": [
    "# Orthogonal Cutting : Simplest Model"
   ]
  },
  {
   "cell_type": "code",
   "execution_count": 12,
   "metadata": {
    "collapsed": true
   },
   "outputs": [],
   "source": [
    "import numpy as np"
   ]
  },
  {
   "cell_type": "markdown",
   "metadata": {},
   "source": [
    "Equations from *Metal Cutting Mechanics and Material Behavior*, Serge Jaspers, 1999 PhD Thesis"
   ]
  },
  {
   "cell_type": "markdown",
   "metadata": {},
   "source": [
    "<img src=\"./ocutting-forces.jpg\" width=\"400\">"
   ]
  },
  {
   "cell_type": "markdown",
   "metadata": {},
   "source": [
    "| Symbol     | Variable | Meaning                   | Relevant Concepts |Units|\n",
    "|-----------------------------------------------------------------------------|\n",
    "| b         | b         | Cutting width (not shown) |                   |     |\n",
    "| $h_{feed}$| h_feed    | Feed rate (diagram shows this as h)|                   |     |\n",
    "| $h$       | h         | Undeformed chip width (diagram shows this as h_c)|         |     |\n",
    "| $\\alpha$  | alpha     | Rake angle                |                   |     |\n",
    "| $\\varphi$ | phi       | Shear angle               |                   |     |\n",
    "| $\\alpha$  | alpha     | Rake angle                |                   |     |\n",
    "| $F_s$     | F_s       | Shear force               |                   |     |\n",
    "| $\\beta$   | beta      | Friction angle (Eqn 2.8)  |                   |     |\n",
    "| $\\tau_F$  | tau_F     | Shear flow stress         |                   |     |"
   ]
  },
  {
   "cell_type": "markdown",
   "metadata": {},
   "source": [
    "### Simplifications\n",
    "* Orthogonal cutting with cutting width much larger than chip thickness ==> plain strain\n",
    "* Perfectly sharp tool ==> no contact between clearance face and and workpiece.\n",
    "* Continuous chip, no built-up edge\n",
    "* Shear zone is plane and stress in this shear plane is uniform\n",
    "\n",
    "$ F_s = F_v cos \\varphi - F_t sin \\varphi$"
   ]
  },
  {
   "cell_type": "code",
   "execution_count": 29,
   "metadata": {
    "collapsed": false
   },
   "outputs": [
    {
     "name": "stdout",
     "output_type": "stream",
     "text": [
      "0.0559988741568\n"
     ]
    }
   ],
   "source": [
    "phi   = np.pi / 4 # Guessing. Need force values \n",
    "alpha = np.pi / 32 # 5 degree positive rake angle\n",
    "h_feed = 0.051 # Feed rate, using Ozel & Altan \n",
    "h = h_feed / np.tan(phi) + h_feed * np.sin(alpha)\n",
    "print(h)"
   ]
  },
  {
   "cell_type": "code",
   "execution_count": 30,
   "metadata": {
    "collapsed": false
   },
   "outputs": [],
   "source": [
    "beta   = (np.pi / 2) + alpha - (2* phi) # Eqn 2.8\n",
    "tau_F  = 923.0 # MPa Ozel & Altan Table 3, 0.051mm/rev feed, 550m/min speed, P20 mold steel."
   ]
  },
  {
   "cell_type": "markdown",
   "metadata": {},
   "source": [
    "$F_V = \\tau_F b h \\frac{cos(\\beta - \\alpha)}{cos(\\varphi + \\beta - \\alpha)sin \\varphi}$\n"
   ]
  },
  {
   "cell_type": "markdown",
   "metadata": {},
   "source": [
    "$F_T = \\tau_F b h \\frac{sin(\\beta - \\alpha)}{cos(\\varphi + \\beta - \\alpha)sin \\varphi}$"
   ]
  },
  {
   "cell_type": "code",
   "execution_count": null,
   "metadata": {
    "collapsed": true
   },
   "outputs": [],
   "source": [
    "def calc_F_V ():\n",
    "    "
   ]
  }
 ],
 "metadata": {
  "kernelspec": {
   "display_name": "Python 3",
   "language": "python",
   "name": "python3"
  },
  "language_info": {
   "codemirror_mode": {
    "name": "ipython",
    "version": 3
   },
   "file_extension": ".py",
   "mimetype": "text/x-python",
   "name": "python",
   "nbconvert_exporter": "python",
   "pygments_lexer": "ipython3",
   "version": "3.5.1"
  }
 },
 "nbformat": 4,
 "nbformat_minor": 0
}
